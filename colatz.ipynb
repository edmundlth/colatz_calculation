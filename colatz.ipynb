{
 "cells": [
  {
   "cell_type": "code",
   "execution_count": 3,
   "metadata": {},
   "outputs": [],
   "source": [
    "import json\n",
    "with open('./colatz_memo.json') as infile:\n",
    "    memo = dict((int(a), b) for a, b in json.load(infile).items())"
   ]
  },
  {
   "cell_type": "code",
   "execution_count": null,
   "metadata": {},
   "outputs": [],
   "source": [
    "def iterate(n):\n",
    "    if n % 2 == 0:\n",
    "        return n // 2\n",
    "    else:\n",
    "        return (3 * n + 1)\n",
    "N = 50000\n",
    "remaining = set(range(1, N)) - set(memo.keys())\n",
    "num = min(remaining)\n",
    "chain = [num]\n",
    "c = num\n",
    "while c < N and remaining:\n",
    "    result = iterate(num)\n",
    "    chain.append(result)\n",
    "    if result in memo:\n",
    "        for i in range(len(chain) - 2, -1 , -1):\n",
    "            memo[chain[i]] = memo[chain[i + 1]] + 1\n",
    "        remaining = remaining - set(memo.keys())\n",
    "        if not remaining:\n",
    "            break\n",
    "        num = min(remaining)\n",
    "        c = num\n",
    "        chain = [num]\n",
    "    else: \n",
    "        num = result\n",
    "\n",
    "\n",
    "print(len(memo))\n",
    "x = np.array([(a, memo[a]) for a in range(1, N)])\n",
    "plt.scatter(x[:, 0], x[:, 1], s=1)\n",
    "plt.figure()\n",
    "plt.hist(x[:, 1], bins=200);\n",
    "fig, ax = plt.subplots(1,1)\n",
    "ax.hist(memo.keys(), bins=5000);\n",
    "ax.set_xscale('log')"
   ]
  }
 ],
 "metadata": {
  "kernelspec": {
   "display_name": "Python 3",
   "language": "python",
   "name": "python3"
  },
  "language_info": {
   "codemirror_mode": {
    "name": "ipython",
    "version": 3
   },
   "file_extension": ".py",
   "mimetype": "text/x-python",
   "name": "python",
   "nbconvert_exporter": "python",
   "pygments_lexer": "ipython3",
   "version": "3.7.3"
  }
 },
 "nbformat": 4,
 "nbformat_minor": 2
}
